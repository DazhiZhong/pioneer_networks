{
 "cells": [
  {
   "cell_type": "code",
   "execution_count": 1,
   "metadata": {},
   "outputs": [],
   "source": [
    "import numpy as np\n",
    "import re\n",
    "import requests\n",
    "from bs4  import BeautifulSoup as soup\n",
    "from tqdm import tqdm\n",
    "import networkx as nx\n",
    "import numpy as np\n",
    "import matplotlib\n",
    "from matplotlib import pyplot as plt\n",
    "from pychord import Chord, ChordProgression\n",
    "import itertools\n",
    "import pickle\n",
    "import os\n",
    "%matplotlib inline"
   ]
  },
  {
   "cell_type": "code",
   "execution_count": 13,
   "metadata": {},
   "outputs": [],
   "source": [
    "def from_page(baseurl, start=1, end=1):\n",
    "    links = []\n",
    "    dirty = []\n",
    "    names = []\n",
    "    for page in tqdm(range(start,end+1)):\n",
    "        url  = f'{baseurl}&page={str(page)}'\n",
    "        print(url)\n",
    "        s = requests.get(url)\n",
    "        print(s)\n",
    "        # s = soup(s.text, 'html.parser')\n",
    "        t = s.text\n",
    "\n",
    "        alltext = re.findall(r'&quot;tab_url&quot;:&quot;(.*?)&quot;,&quot;',t)\n",
    "#         print(len(alltext),'\\n\\n')\n",
    "        for i in alltext:\n",
    "            if '/pro/' in i:\n",
    "                continue\n",
    "            dirty.append(i)\n",
    "\n",
    "            current = re.search(r'https://tabs.ultimate-guitar.com/tab/[\\w-]+/([\\w-]+)-\\w+-\\d+',i)\n",
    "            try:\n",
    "                name = current.group(1)\n",
    "            except:\n",
    "                continue\n",
    "            if name not in names:\n",
    "                names.append(name)\n",
    "            else:\n",
    "                continue\n",
    "            links.append(i)\n",
    "    return (links, dirty, names)"
   ]
  },
  {
   "cell_type": "code",
   "execution_count": 2,
   "metadata": {},
   "outputs": [],
   "source": [
    "def from_genre(genre, start=1, end=1):\n",
    "    links = []\n",
    "    dirty = []\n",
    "    names = []\n",
    "    for page in tqdm(range(start,end+1)):\n",
    "        url  = f'https://www.ultimate-guitar.com/explore?genres[]={str(genre)}&page={str(page)}'\n",
    "#         print(url)\n",
    "        s = requests.get(url)\n",
    "        # s = soup(s.text, 'html.parser')\n",
    "        t = s.text\n",
    "\n",
    "        alltext = re.findall(r'&quot;tab_url&quot;:&quot;(.*?)&quot;,&quot;',t)\n",
    "#         print(len(alltext),'\\n\\n')\n",
    "        for i in alltext:\n",
    "            if '/pro/' in i:\n",
    "                continue\n",
    "            dirty.append(i)\n",
    "\n",
    "            current = re.search(r'https://tabs.ultimate-guitar.com/tab/[\\w-]+/([\\w-]+)-\\w+-\\d+',i)\n",
    "            try:\n",
    "                name = current.group(1)\n",
    "            except:\n",
    "                continue\n",
    "            if name not in names:\n",
    "                names.append(name)\n",
    "            else:\n",
    "                continue\n",
    "            links.append(i)\n",
    "    return (links, dirty, names)"
   ]
  },
  {
   "cell_type": "code",
   "execution_count": 3,
   "metadata": {},
   "outputs": [],
   "source": [
    "def from_artist(artistname, start=1, end=1):\n",
    "    links = []\n",
    "    dirty = []\n",
    "    names = []\n",
    "    for page in tqdm(range(start,end+1)):\n",
    "        url = \"https://www.ultimate-guitar.com/artist/\"+artistname+f\"?page={page}\"\n",
    "#         print(url)\n",
    "        s = requests.get(url)\n",
    "        # s = soup(s.text, 'html.parser')\n",
    "        t = s.text\n",
    "\n",
    "        alltext = re.findall(r'&quot;tab_url&quot;:&quot;(.*?)&quot;,&quot;',t)\n",
    "#         print(len(alltext),'\\n\\n')\n",
    "        for i in alltext:\n",
    "            if '/pro/' in i:\n",
    "                continue\n",
    "            dirty.append(i)\n",
    "            current = re.search(r'https://tabs.ultimate-guitar.com/tab/[\\w-]+/([\\w-]+)-\\w+-\\d+',i)\n",
    "            try:\n",
    "                name = current.group(1)\n",
    "            else:\n",
    "                continue\n",
    "            if name not in names:\n",
    "                names.append(name)\n",
    "            else:\n",
    "                continue\n",
    "            links.append(i)\n",
    "    return (links, dirty, names)"
   ]
  },
  {
   "cell_type": "code",
   "execution_count": 4,
   "metadata": {},
   "outputs": [],
   "source": [
    "def chord_tonality(url):\n",
    "    try:\n",
    "        s = requests.get(url)\n",
    "    except:\n",
    "        print('error\\n\\n')\n",
    "        return None, None\n",
    "    m = re.search(r'{&quot;content&quot;:&quot;(.+)&quot;,&quot;revision_id&quot;',s.text)\n",
    "    if m is None:\n",
    "        return None, None\n",
    "    tonal = re.search(r'tonality&quot;:&quot;(\\w+)&quot;', s.text)\n",
    "    if tonal is not None:\n",
    "        tonal = re.search(r'tonality&quot;:&quot;(\\w+)&quot;', s.text).group(1)\n",
    "    return [re.findall(r'\\[ch\\]([\\w#\\.-]+)\\[\\/ch\\]',m.group(1)), tonal]"
   ]
  },
  {
   "cell_type": "code",
   "execution_count": 5,
   "metadata": {},
   "outputs": [],
   "source": [
    "def from_chords(chords,drawsize=10, changetone=None):\n",
    "    ch = zip(chords[:-1],chords[1:])\n",
    "    ch =  [i for i in ch]\n",
    "    G = nx.MultiDiGraph()\n",
    "    G.add_edges_from(ch)\n",
    "    return G"
   ]
  },
  {
   "cell_type": "code",
   "execution_count": null,
   "metadata": {},
   "outputs": [],
   "source": []
  },
  {
   "cell_type": "code",
   "execution_count": null,
   "metadata": {},
   "outputs": [],
   "source": []
  },
  {
   "cell_type": "code",
   "execution_count": null,
   "metadata": {},
   "outputs": [],
   "source": []
  },
  {
   "cell_type": "code",
   "execution_count": 6,
   "metadata": {},
   "outputs": [],
   "source": [
    "def tofile(l, filepath):\n",
    "    with open(filepath, 'w') as f:\n",
    "        f.writelines([i+'\\n' for i in l])"
   ]
  },
  {
   "cell_type": "code",
   "execution_count": 7,
   "metadata": {},
   "outputs": [],
   "source": [
    "class SongChords:\n",
    "    def __init__(self, c, G):\n",
    "        self.c = c\n",
    "        self.G = G\n",
    "    def get(self):\n",
    "        return (self.c, self.G)"
   ]
  },
  {
   "cell_type": "code",
   "execution_count": 8,
   "metadata": {},
   "outputs": [],
   "source": [
    "def save_song(url, folderpath, name):\n",
    "    ch, t = chord_tonality(url)\n",
    "    if ch is None or len(ch) == 0:\n",
    "#         print(ch, 'dead')\n",
    "        return None\n",
    "#     if t is None:\n",
    "#         return None\n",
    "    G = from_chords(ch)\n",
    "    S = SongChords(ch, G)\n",
    "    path = os.path.join(folderpath, name)\n",
    "    pickle.dump(S, open(path+'.pickle','wb'))\n",
    "    nx.write_gexf(G, path+'.gexf')\n",
    "    nx.write_edgelist(G, path+'.edgelist')\n",
    "    return 1\n",
    "# save_song('https://tabs.ultimate-guitar.com/tab/the-beatles/besame-mucho-ukulele-1308694','./beatles',1)"
   ]
  },
  {
   "cell_type": "code",
   "execution_count": 9,
   "metadata": {},
   "outputs": [],
   "source": [
    "def convertlist(textpath, folderpath, maxlimit = 0):\n",
    "    with open(textpath) as f:\n",
    "        lines = f.readlines()\n",
    "    lines = [i[:-1] for i in lines]\n",
    "    if maxlimit == 0:\n",
    "        maxlimit = len(lines)\n",
    "    lines = lines[:maxlimit]\n",
    "    for l in tqdm(lines):\n",
    "        current = re.search(r'https://tabs.ultimate-guitar.com/tab/[\\w-]+/([\\w-]+)',l)\n",
    "        try:\n",
    "            name = current.group(1)\n",
    "        except:\n",
    "            continue\n",
    "        nice = save_song(l, folderpath, name)\n",
    "        "
   ]
  },
  {
   "cell_type": "markdown",
   "metadata": {},
   "source": [
    "### exec"
   ]
  },
  {
   "cell_type": "code",
   "execution_count": 56,
   "metadata": {},
   "outputs": [
    {
     "name": "stderr",
     "output_type": "stream",
     "text": [
      "100%|██████████| 4/4 [00:03<00:00,  1.09it/s]\n",
      "100%|██████████| 442/442 [05:50<00:00,  1.26it/s]\n"
     ]
    }
   ],
   "source": [
    "name = 'gary_moore_10959'\n",
    "links, dirty, songs = from_artist(name,1,4)\n",
    "tofile(links,f'{name}-2l.txt')\n",
    "tofile(dirty, f'{name}-2d.txt')\n",
    "if not os.path.exists(f'./{name}-2d'): \n",
    "    os.mkdir(f'./{name}-2d')\n",
    "convertlist(f'{name}-2d.txt', f'./{name}-2d', 0)"
   ]
  },
  {
   "cell_type": "code",
   "execution_count": 19,
   "metadata": {},
   "outputs": [
    {
     "name": "stderr",
     "output_type": "stream",
     "text": [
      " 50%|█████     | 2/4 [00:02<00:02,  1.34s/it]\n"
     ]
    },
    {
     "ename": "AttributeError",
     "evalue": "'NoneType' object has no attribute 'group'",
     "output_type": "error",
     "traceback": [
      "\u001b[0;31m---------------------------------------------------------------------------\u001b[0m",
      "\u001b[0;31mAttributeError\u001b[0m                            Traceback (most recent call last)",
      "\u001b[0;32m<ipython-input-19-2ffffa073234>\u001b[0m in \u001b[0;36m<module>\u001b[0;34m\u001b[0m\n\u001b[1;32m      5\u001b[0m ]\n\u001b[1;32m      6\u001b[0m \u001b[0;32mfor\u001b[0m \u001b[0mname\u001b[0m \u001b[0;32min\u001b[0m \u001b[0mnames\u001b[0m\u001b[0;34m:\u001b[0m\u001b[0;34m\u001b[0m\u001b[0;34m\u001b[0m\u001b[0m\n\u001b[0;32m----> 7\u001b[0;31m     \u001b[0mlinks\u001b[0m\u001b[0;34m,\u001b[0m \u001b[0mdirty\u001b[0m\u001b[0;34m,\u001b[0m \u001b[0msongs\u001b[0m \u001b[0;34m=\u001b[0m \u001b[0mfrom_artist\u001b[0m\u001b[0;34m(\u001b[0m\u001b[0mname\u001b[0m\u001b[0;34m,\u001b[0m\u001b[0;36m2\u001b[0m\u001b[0;34m,\u001b[0m\u001b[0;36m5\u001b[0m\u001b[0;34m)\u001b[0m\u001b[0;34m\u001b[0m\u001b[0;34m\u001b[0m\u001b[0m\n\u001b[0m\u001b[1;32m      8\u001b[0m     \u001b[0mtofile\u001b[0m\u001b[0;34m(\u001b[0m\u001b[0mdirty\u001b[0m\u001b[0;34m,\u001b[0m \u001b[0;34mf'{name}-2d.txt'\u001b[0m\u001b[0;34m)\u001b[0m\u001b[0;34m\u001b[0m\u001b[0;34m\u001b[0m\u001b[0m\n\u001b[1;32m      9\u001b[0m     \u001b[0;32mif\u001b[0m \u001b[0;32mnot\u001b[0m \u001b[0mos\u001b[0m\u001b[0;34m.\u001b[0m\u001b[0mpath\u001b[0m\u001b[0;34m.\u001b[0m\u001b[0mexists\u001b[0m\u001b[0;34m(\u001b[0m\u001b[0;34mf'./{name}-2d'\u001b[0m\u001b[0;34m)\u001b[0m\u001b[0;34m:\u001b[0m\u001b[0;34m\u001b[0m\u001b[0;34m\u001b[0m\u001b[0m\n",
      "\u001b[0;32m<ipython-input-3-c30a5b769960>\u001b[0m in \u001b[0;36mfrom_artist\u001b[0;34m(artistname, start, end)\u001b[0m\n\u001b[1;32m     17\u001b[0m             \u001b[0mdirty\u001b[0m\u001b[0;34m.\u001b[0m\u001b[0mappend\u001b[0m\u001b[0;34m(\u001b[0m\u001b[0mi\u001b[0m\u001b[0;34m)\u001b[0m\u001b[0;34m\u001b[0m\u001b[0;34m\u001b[0m\u001b[0m\n\u001b[1;32m     18\u001b[0m             \u001b[0mcurrent\u001b[0m \u001b[0;34m=\u001b[0m \u001b[0mre\u001b[0m\u001b[0;34m.\u001b[0m\u001b[0msearch\u001b[0m\u001b[0;34m(\u001b[0m\u001b[0;34mr'https://tabs.ultimate-guitar.com/tab/[\\w-]+/([\\w-]+)-\\w+-\\d+'\u001b[0m\u001b[0;34m,\u001b[0m\u001b[0mi\u001b[0m\u001b[0;34m)\u001b[0m\u001b[0;34m\u001b[0m\u001b[0;34m\u001b[0m\u001b[0m\n\u001b[0;32m---> 19\u001b[0;31m             \u001b[0mname\u001b[0m \u001b[0;34m=\u001b[0m \u001b[0mcurrent\u001b[0m\u001b[0;34m.\u001b[0m\u001b[0mgroup\u001b[0m\u001b[0;34m(\u001b[0m\u001b[0;36m1\u001b[0m\u001b[0;34m)\u001b[0m\u001b[0;34m\u001b[0m\u001b[0;34m\u001b[0m\u001b[0m\n\u001b[0m\u001b[1;32m     20\u001b[0m             \u001b[0;32mif\u001b[0m \u001b[0mname\u001b[0m \u001b[0;32mnot\u001b[0m \u001b[0;32min\u001b[0m \u001b[0mnames\u001b[0m\u001b[0;34m:\u001b[0m\u001b[0;34m\u001b[0m\u001b[0;34m\u001b[0m\u001b[0m\n\u001b[1;32m     21\u001b[0m                 \u001b[0mnames\u001b[0m\u001b[0;34m.\u001b[0m\u001b[0mappend\u001b[0m\u001b[0;34m(\u001b[0m\u001b[0mname\u001b[0m\u001b[0;34m)\u001b[0m\u001b[0;34m\u001b[0m\u001b[0;34m\u001b[0m\u001b[0m\n",
      "\u001b[0;31mAttributeError\u001b[0m: 'NoneType' object has no attribute 'group'"
     ]
    }
   ],
   "source": [
    "names = [\n",
    "    'taylor_swift_16027',\n",
    "    'lady_gaga_21818',\n",
    "    'billie_eilish_66748',\n",
    "]\n",
    "for name in names:\n",
    "    links, dirty, songs = from_artist(name,2,5)\n",
    "    tofile(dirty, f'{name}-2d.txt')\n",
    "    if not os.path.exists(f'./{name}-2d'): \n",
    "        os.mkdir(f'./{name}-2d')\n",
    "    convertlist(f'{name}-2d.txt', f'./{name}-2d', 0)\n",
    "    print('oof')\n",
    "    sleep(10)"
   ]
  },
  {
   "cell_type": "code",
   "execution_count": 18,
   "metadata": {
    "scrolled": true
   },
   "outputs": [
    {
     "name": "stderr",
     "output_type": "stream",
     "text": [
      "\r",
      "  0%|          | 0/5 [00:00<?, ?it/s]"
     ]
    },
    {
     "name": "stdout",
     "output_type": "stream",
     "text": [
      "4\n"
     ]
    },
    {
     "name": "stderr",
     "output_type": "stream",
     "text": [
      "100%|██████████| 5/5 [00:05<00:00,  1.01s/it]\n",
      "100%|██████████| 250/250 [02:48<00:00,  1.48it/s]"
     ]
    },
    {
     "name": "stdout",
     "output_type": "stream",
     "text": [
      "oof\n"
     ]
    },
    {
     "name": "stderr",
     "output_type": "stream",
     "text": [
      "\n"
     ]
    }
   ],
   "source": [
    "# from_genre(84)\n",
    "\n",
    "genres = {\n",
    "#     'blues':99,\n",
    "#     'jazz':84\n",
    "#     'pop':14\n",
    "#     'metal':8,\n",
    "    'rock':4,\n",
    "    \n",
    "}\n",
    "pages  =  (1,5)\n",
    "\n",
    "\n",
    "for genre, genrenum in genres.items():\n",
    "    print(genrenum)\n",
    "    links, dirty, songs = from_genre(genrenum,pages[0],pages[1])\n",
    "    tofile(dirty, f'{genre}-2d.txt')\n",
    "    if not os.path.exists(f'./{genre}-2d'): \n",
    "        os.mkdir(f'./{genre}-2d')\n",
    "    convertlist(f'{genre}-2d.txt', f'./{genre}-2d', 0)\n",
    "    print('oof')\n",
    "#     sleep(10)"
   ]
  },
  {
   "cell_type": "code",
   "execution_count": null,
   "metadata": {},
   "outputs": [],
   "source": []
  },
  {
   "cell_type": "code",
   "execution_count": 15,
   "metadata": {},
   "outputs": [
    {
     "name": "stderr",
     "output_type": "stream",
     "text": [
      "\r",
      "  0%|          | 0/5 [00:00<?, ?it/s]"
     ]
    },
    {
     "name": "stdout",
     "output_type": "stream",
     "text": [
      "https://www.ultimate-guitar.com/explore?&page=1\n"
     ]
    },
    {
     "name": "stderr",
     "output_type": "stream",
     "text": [
      "\r",
      " 20%|██        | 1/5 [00:00<00:03,  1.12it/s]"
     ]
    },
    {
     "name": "stdout",
     "output_type": "stream",
     "text": [
      "<Response [200]>\n",
      "https://www.ultimate-guitar.com/explore?&page=2\n"
     ]
    },
    {
     "name": "stderr",
     "output_type": "stream",
     "text": [
      "\r",
      " 40%|████      | 2/5 [00:01<00:02,  1.18it/s]"
     ]
    },
    {
     "name": "stdout",
     "output_type": "stream",
     "text": [
      "<Response [200]>\n",
      "https://www.ultimate-guitar.com/explore?&page=3\n"
     ]
    },
    {
     "name": "stderr",
     "output_type": "stream",
     "text": [
      "\r",
      " 60%|██████    | 3/5 [00:02<00:01,  1.22it/s]"
     ]
    },
    {
     "name": "stdout",
     "output_type": "stream",
     "text": [
      "<Response [200]>\n",
      "https://www.ultimate-guitar.com/explore?&page=4\n"
     ]
    },
    {
     "name": "stderr",
     "output_type": "stream",
     "text": [
      "\r",
      " 80%|████████  | 4/5 [00:03<00:00,  1.21it/s]"
     ]
    },
    {
     "name": "stdout",
     "output_type": "stream",
     "text": [
      "<Response [200]>\n",
      "https://www.ultimate-guitar.com/explore?&page=5\n"
     ]
    },
    {
     "name": "stderr",
     "output_type": "stream",
     "text": [
      "100%|██████████| 5/5 [00:04<00:00,  1.21it/s]\n",
      "  0%|          | 0/250 [00:00<?, ?it/s]"
     ]
    },
    {
     "name": "stdout",
     "output_type": "stream",
     "text": [
      "<Response [200]>\n"
     ]
    },
    {
     "name": "stderr",
     "output_type": "stream",
     "text": [
      "100%|██████████| 250/250 [02:54<00:00,  1.44it/s]\n"
     ]
    }
   ],
   "source": [
    "\n",
    "pages  =  (1,5)\n",
    "\n",
    "\n",
    "\n",
    "name = 'general'\n",
    "links, dirty, songs = from_page('https://www.ultimate-guitar.com/explore?',pages[0],pages[1])\n",
    "tofile(dirty, f'{name}-2d.txt')\n",
    "if not os.path.exists(f'./{name}-2d'): \n",
    "    os.mkdir(f'./{name}-2d')\n",
    "convertlist(f'{name}-2d.txt', f'./{name}-2d', 0)"
   ]
  },
  {
   "cell_type": "code",
   "execution_count": 22,
   "metadata": {},
   "outputs": [],
   "source": []
  },
  {
   "cell_type": "code",
   "execution_count": 11,
   "metadata": {},
   "outputs": [
    {
     "name": "stderr",
     "output_type": "stream",
     "text": [
      "100%|██████████| 1/1 [00:00<00:00,  1.10it/s]\n",
      "100%|██████████| 105/105 [01:24<00:00,  1.24it/s]\n"
     ]
    },
    {
     "data": {
      "text/plain": [
       "39"
      ]
     },
     "execution_count": 11,
     "metadata": {},
     "output_type": "execute_result"
    }
   ],
   "source": [
    "name = 'the_beatles_1916'\n",
    "links, dirty, songs = from_artist(name,1)\n",
    "tofile(links,f'{name}-l.txt')\n",
    "tofile(dirty, f'{name}-d.txt')\n",
    "if not os.path.exists(f'./{name}'): os.mkdir(f'./{name}')\n",
    "convertlist(f'{name}-d.txt', f'./{name}')"
   ]
  },
  {
   "cell_type": "code",
   "execution_count": 12,
   "metadata": {},
   "outputs": [
    {
     "name": "stderr",
     "output_type": "stream",
     "text": [
      "100%|██████████| 1/1 [00:00<00:00,  1.12it/s]\n",
      "100%|██████████| 110/110 [01:18<00:00,  1.39it/s]\n"
     ]
    },
    {
     "data": {
      "text/plain": [
       "41"
      ]
     },
     "execution_count": 12,
     "metadata": {},
     "output_type": "execute_result"
    }
   ],
   "source": [
    "name = 'ramones_555'\n",
    "links, dirty, songs = from_artist(name,1)\n",
    "tofile(links,f'{name}-l.txt')\n",
    "tofile(dirty, f'{name}-d.txt')\n",
    "if not os.path.exists(f'./{name}'): os.mkdir(f'./{name}')\n",
    "convertlist(f'{name}-d.txt', f'./{name}')"
   ]
  },
  {
   "cell_type": "code",
   "execution_count": null,
   "metadata": {},
   "outputs": [],
   "source": []
  },
  {
   "cell_type": "code",
   "execution_count": null,
   "metadata": {},
   "outputs": [],
   "source": []
  },
  {
   "cell_type": "code",
   "execution_count": 12,
   "metadata": {},
   "outputs": [
    {
     "name": "stderr",
     "output_type": "stream",
     "text": [
      "100%|██████████| 100/100 [01:48<00:00,  1.08s/it]\n"
     ]
    },
    {
     "data": {
      "text/plain": [
       "100"
      ]
     },
     "execution_count": 12,
     "metadata": {},
     "output_type": "execute_result"
    }
   ],
   "source": [
    "## already have a list\n",
    "listname = 'Rock'\n",
    "if not os.path.exists(f'./{listname}'):\n",
    "    os.mkdir(f'./{listname}')\n",
    "convertlist(f'{listname}.txt', f'./{listname}',100)"
   ]
  },
  {
   "cell_type": "code",
   "execution_count": 1,
   "metadata": {},
   "outputs": [
    {
     "data": {
      "text/plain": [
       "2"
      ]
     },
     "execution_count": 1,
     "metadata": {},
     "output_type": "execute_result"
    }
   ],
   "source": [
    "1+1"
   ]
  },
  {
   "cell_type": "code",
   "execution_count": 13,
   "metadata": {},
   "outputs": [
    {
     "ename": "NameError",
     "evalue": "name 'G' is not defined",
     "output_type": "error",
     "traceback": [
      "\u001b[0;31m---------------------------------------------------------------------------\u001b[0m",
      "\u001b[0;31mNameError\u001b[0m                                 Traceback (most recent call last)",
      "\u001b[0;32m<ipython-input-13-96e89ba817df>\u001b[0m in \u001b[0;36m<module>\u001b[0;34m\u001b[0m\n\u001b[0;32m----> 1\u001b[0;31m \u001b[0mG\u001b[0m\u001b[0;34m\u001b[0m\u001b[0;34m\u001b[0m\u001b[0m\n\u001b[0m",
      "\u001b[0;31mNameError\u001b[0m: name 'G' is not defined"
     ]
    }
   ],
   "source": []
  },
  {
   "cell_type": "code",
   "execution_count": 59,
   "metadata": {},
   "outputs": [],
   "source": []
  },
  {
   "cell_type": "code",
   "execution_count": null,
   "metadata": {},
   "outputs": [],
   "source": []
  },
  {
   "cell_type": "code",
   "execution_count": null,
   "metadata": {},
   "outputs": [],
   "source": []
  }
 ],
 "metadata": {
  "kernelspec": {
   "display_name": "Python 3",
   "language": "python",
   "name": "python3"
  },
  "language_info": {
   "codemirror_mode": {
    "name": "ipython",
    "version": 3
   },
   "file_extension": ".py",
   "mimetype": "text/x-python",
   "name": "python",
   "nbconvert_exporter": "python",
   "pygments_lexer": "ipython3",
   "version": "3.7.4"
  }
 },
 "nbformat": 4,
 "nbformat_minor": 2
}

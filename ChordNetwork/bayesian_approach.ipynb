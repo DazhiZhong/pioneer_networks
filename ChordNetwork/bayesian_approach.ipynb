{
 "cells": [
  {
   "cell_type": "code",
   "execution_count": 1,
   "metadata": {},
   "outputs": [
    {
     "name": "stderr",
     "output_type": "stream",
     "text": [
      "/Users/xieewenz/opt/anaconda3/lib/python3.7/site-packages/statsmodels/tools/_testing.py:19: FutureWarning: pandas.util.testing is deprecated. Use the functions in the public API at pandas.testing instead.\n",
      "  import pandas.util.testing as tm\n"
     ]
    }
   ],
   "source": [
    "import time\n",
    "import pandas as pd\n",
    "import numpy as np\n",
    "import matplotlib.pyplot as plt\n",
    "import seaborn as sns"
   ]
  },
  {
   "cell_type": "code",
   "execution_count": 2,
   "metadata": {},
   "outputs": [
    {
     "data": {
      "text/html": [
       "<div>\n",
       "<style scoped>\n",
       "    .dataframe tbody tr th:only-of-type {\n",
       "        vertical-align: middle;\n",
       "    }\n",
       "\n",
       "    .dataframe tbody tr th {\n",
       "        vertical-align: top;\n",
       "    }\n",
       "\n",
       "    .dataframe thead th {\n",
       "        text-align: right;\n",
       "    }\n",
       "</style>\n",
       "<table border=\"1\" class=\"dataframe\">\n",
       "  <thead>\n",
       "    <tr style=\"text-align: right;\">\n",
       "      <th></th>\n",
       "      <th>ch</th>\n",
       "      <th>y</th>\n",
       "    </tr>\n",
       "  </thead>\n",
       "  <tbody>\n",
       "    <tr>\n",
       "      <th>0</th>\n",
       "      <td>C Am Em G C Am Em Dm7 G7 C Am Em Dm7 Fm C G7 G...</td>\n",
       "      <td>0</td>\n",
       "    </tr>\n",
       "    <tr>\n",
       "      <th>1</th>\n",
       "      <td>D7 G7 A7 A7 D7 A7 D7 D7 D7 G7 G7 D7 A7 G7 A7 G...</td>\n",
       "      <td>0</td>\n",
       "    </tr>\n",
       "    <tr>\n",
       "      <th>2</th>\n",
       "      <td>G C G F G G C G F G C D G C G G C G F G G C G ...</td>\n",
       "      <td>0</td>\n",
       "    </tr>\n",
       "    <tr>\n",
       "      <th>3</th>\n",
       "      <td>E C#m E C#m F#m Am E E C#m E C#m F#m Am E E A ...</td>\n",
       "      <td>0</td>\n",
       "    </tr>\n",
       "    <tr>\n",
       "      <th>4</th>\n",
       "      <td>D7 G G C G D7 G C D7 G D7 G D7 G D7 G A7 D7 G ...</td>\n",
       "      <td>0</td>\n",
       "    </tr>\n",
       "  </tbody>\n",
       "</table>\n",
       "</div>"
      ],
      "text/plain": [
       "                                                  ch  y\n",
       "0  C Am Em G C Am Em Dm7 G7 C Am Em Dm7 Fm C G7 G...  0\n",
       "1  D7 G7 A7 A7 D7 A7 D7 D7 D7 G7 G7 D7 A7 G7 A7 G...  0\n",
       "2  G C G F G G C G F G C D G C G G C G F G G C G ...  0\n",
       "3  E C#m E C#m F#m Am E E C#m E C#m F#m Am E E A ...  0\n",
       "4  D7 G G C G D7 G C D7 G D7 G D7 G D7 G A7 D7 G ...  0"
      ]
     },
     "execution_count": 2,
     "metadata": {},
     "output_type": "execute_result"
    }
   ],
   "source": [
    "path = '/Users/xieewenz/python/Networkx/ChordNetwork/allstuffs2.csv'\n",
    "df = pd.read_csv(path, names=['ch','y'])#,encoding='ISO-8859-1')# 3rd party packages importing, encoding='ISO-8859-1')\n",
    "df.head(5)"
   ]
  },
  {
   "cell_type": "code",
   "execution_count": 3,
   "metadata": {},
   "outputs": [],
   "source": [
    "x = df['ch']\n",
    "y = df['y']"
   ]
  },
  {
   "cell_type": "code",
   "execution_count": 4,
   "metadata": {},
   "outputs": [],
   "source": [
    "# x,y"
   ]
  },
  {
   "cell_type": "code",
   "execution_count": 5,
   "metadata": {},
   "outputs": [
    {
     "data": {
      "text/plain": [
       "<matplotlib.axes._subplots.AxesSubplot at 0x1a19c3dfd0>"
      ]
     },
     "execution_count": 5,
     "metadata": {},
     "output_type": "execute_result"
    },
    {
     "data": {
      "image/png": "[encoded data removed]",
      "text/plain": [
       "<Figure size 432x288 with 1 Axes>"
      ]
     },
     "metadata": {
      "needs_background": "light"
     },
     "output_type": "display_data"
    }
   ],
   "source": [
    "sns.countplot(y)  "
   ]
  },
  {
   "cell_type": "code",
   "execution_count": 6,
   "metadata": {},
   "outputs": [
    {
     "name": "stdout",
     "output_type": "stream",
     "text": [
      "36\n",
      "19\n",
      "<class 'pandas.core.series.Series'>\n"
     ]
    }
   ],
   "source": [
    "\n",
    "from sklearn.model_selection import train_test_split\n",
    "x_train,x_test,y_train,y_test = train_test_split(x,y, test_size = 0.33)\n",
    "print(x_train.size)\n",
    "print(x_test.size)\n",
    "print(type(y_train))"
   ]
  },
  {
   "cell_type": "code",
   "execution_count": null,
   "metadata": {},
   "outputs": [],
   "source": []
  },
  {
   "cell_type": "code",
   "execution_count": 7,
   "metadata": {},
   "outputs": [],
   "source": [
    "\n",
    "from sklearn.feature_extraction.text import CountVectorizer,TfidfVectorizer\n",
    "vect = CountVectorizer(ngram_range=(4,4),lowercase=False, token_pattern='[\\w#\\d]+').fit(x_train)\n",
    "train_df_vectorized = vect.transform(x_train)\n",
    "# print(vect.inverse_transform(train_df_vectorized[10]))\n",
    "# print(train_df_vectorized)\n",
    "vect_tfidf = TfidfVectorizer(ngram_range=(4,4),min_df=2,max_df=0.5,lowercase=False, token_pattern='[\\w#\\d]+').fit(x_train)\n",
    "train_df_vectorized_tfidf = vect_tfidf.transform(x_train)"
   ]
  },
  {
   "cell_type": "code",
   "execution_count": null,
   "metadata": {},
   "outputs": [],
   "source": []
  },
  {
   "cell_type": "code",
   "execution_count": 8,
   "metadata": {},
   "outputs": [
    {
     "name": "stdout",
     "output_type": "stream",
     "text": [
      "[array(['A7 D A D', 'A7 D G7 D', 'A7 G7 A7 G7', 'A7 G7 G7 D', 'D A D A6',\n",
      "       'D A7 G7 A7', 'D D G7 D', 'D G7 A7 D', 'D G7 D A7', 'D G7 D G7',\n",
      "       'G7 A7 D A', 'G7 A7 D G7', 'G7 A7 G7 G7', 'G7 D A7 G7',\n",
      "       'G7 D G7 A7', 'G7 G7 D G7'], dtype='<U17')]\n"
     ]
    }
   ],
   "source": [
    "print(vect.inverse_transform(train_df_vectorized[2]))\n",
    "# print(x.iloc[0])\n",
    "# print(train_df_vectorized_tfidf[0])"
   ]
  },
  {
   "cell_type": "code",
   "execution_count": 9,
   "metadata": {},
   "outputs": [
    {
     "name": "stdout",
     "output_type": "stream",
     "text": [
      "[0 0 0 0 1 0 0 1 0 0 1 1 1 1 0 1 0 1 0 0 0 0 0 0 1 0 0 1 0 0 1 1 0 1 0 0]\n"
     ]
    }
   ],
   "source": [
    "\n",
    "from sklearn.preprocessing import LabelEncoder\n",
    "LB = LabelEncoder()\n",
    "y_train = LB.fit_transform(y_train)\n",
    "y_test = LB.transform(y_test)\n",
    "print(y_train)"
   ]
  },
  {
   "cell_type": "code",
   "execution_count": 10,
   "metadata": {},
   "outputs": [
    {
     "data": {
      "text/plain": [
       "MultinomialNB(alpha=0.2, class_prior=None, fit_prior=True)"
      ]
     },
     "execution_count": 10,
     "metadata": {},
     "output_type": "execute_result"
    }
   ],
   "source": [
    "\n",
    "from sklearn.naive_bayes import MultinomialNB\n",
    "clfrNB = MultinomialNB(alpha = 0.2)\n",
    "clfrNB.fit(train_df_vectorized, y_train)\n",
    "clfrNB_tfidf = MultinomialNB(alpha = 0.2)\n",
    "clfrNB_tfidf.fit(train_df_vectorized_tfidf, y_train)"
   ]
  },
  {
   "cell_type": "code",
   "execution_count": 11,
   "metadata": {},
   "outputs": [
    {
     "name": "stdout",
     "output_type": "stream",
     "text": [
      "accuracy using tfidf vectorizer and Naive Bayes model is: 0.7368421052631579\n",
      "accuracy using count vectorizer and Naive Bayes model is: 0.8421052631578947\n"
     ]
    }
   ],
   "source": [
    "\n",
    "from sklearn.metrics import roc_auc_score,accuracy_score\n",
    "acc_nb_tfidf = accuracy_score(clfrNB_tfidf.predict(vect_tfidf.transform(x_test)),y_test)\n",
    "acc_nb_cv = accuracy_score(clfrNB.predict(vect.transform(x_test)),y_test)\n",
    "print(\"accuracy using tfidf vectorizer and Naive Bayes model is: \" +str(acc_nb_tfidf) )\n",
    "print(\"accuracy using count vectorizer and Naive Bayes model is: \" +str(acc_nb_cv) )"
   ]
  },
  {
   "cell_type": "code",
   "execution_count": null,
   "metadata": {},
   "outputs": [],
   "source": []
  },
  {
   "cell_type": "code",
   "execution_count": 12,
   "metadata": {},
   "outputs": [],
   "source": [
    "from sklearn.model_selection import train_test_split\n",
    "from sklearn.feature_extraction.text import CountVectorizer,TfidfVectorizer\n",
    "from sklearn.preprocessing import LabelEncoder\n",
    "from sklearn.naive_bayes import MultinomialNB\n",
    "from sklearn.metrics import roc_auc_score,accuracy_score\n",
    "from matplotlib import pyplot as plt"
   ]
  },
  {
   "cell_type": "code",
   "execution_count": 13,
   "metadata": {},
   "outputs": [],
   "source": [
    "tfidfacc = []\n",
    "countacc = []\n",
    "\n",
    "for i in range(1000):\n",
    "    x_train,x_test,y_train,y_test = train_test_split(x,y, test_size = 0.3)\n",
    "    vect = CountVectorizer(ngram_range=(1,1),lowercase=False, token_pattern='[\\w#\\d]+').fit(x_train)\n",
    "    train_df_vectorized = vect.transform(x_train)\n",
    "    vect_tfidf = TfidfVectorizer(ngram_range=(1,1),min_df=2,max_df=0.5,lowercase=False, token_pattern='[\\w#\\d]+').fit(x_train)\n",
    "    train_df_vectorized_tfidf = vect_tfidf.transform(x_train)\n",
    "    LB = LabelEncoder()\n",
    "    y_train = LB.fit_transform(y_train)\n",
    "    y_test = LB.transform(y_test)\n",
    "    clfrNB = MultinomialNB(alpha = 0.2)\n",
    "    clfrNB.fit(train_df_vectorized, y_train)\n",
    "    clfrNB_tfidf = MultinomialNB(alpha = 0.2)\n",
    "    clfrNB_tfidf.fit(train_df_vectorized_tfidf, y_train)\n",
    "    acc_nb_tfidf = accuracy_score(clfrNB_tfidf.predict(vect_tfidf.transform(x_test)),y_test)\n",
    "    acc_nb_cv = accuracy_score(clfrNB.predict(vect.transform(x_test)),y_test)\n",
    "    tfidfacc.append(acc_nb_tfidf)\n",
    "    countacc.append(acc_nb_cv)"
   ]
  },
  {
   "cell_type": "code",
   "execution_count": 14,
   "metadata": {},
   "outputs": [
    {
     "data": {
      "text/plain": [
       "[0.8450588235294163, 0.8788823529411836]"
      ]
     },
     "execution_count": 14,
     "metadata": {},
     "output_type": "execute_result"
    }
   ],
   "source": [
    "[sum(tfidfacc)/1000,sum(countacc)/1000]"
   ]
  },
  {
   "cell_type": "code",
   "execution_count": 15,
   "metadata": {
    "scrolled": true
   },
   "outputs": [
    {
     "data": {
      "text/plain": [
       "<matplotlib.legend.Legend at 0x1a1a88c6d0>"
      ]
     },
     "execution_count": 15,
     "metadata": {},
     "output_type": "execute_result"
    },
    {
     "data": {
      "image/png": "[encoded data removed]",
      "text/plain": [
       "<Figure size 432x288 with 1 Axes>"
      ]
     },
     "metadata": {
      "needs_background": "light"
     },
     "output_type": "display_data"
    }
   ],
   "source": [
    "plt.xlabel('accuracy')\n",
    "plt.ylabel('number of occurence')\n",
    "plt.hist(tfidfacc, color='red', alpha=0.5, label='TF-IDF')\n",
    "plt.hist(countacc, color='blue', alpha=0.5, label='CountVect')\n",
    "plt.legend()"
   ]
  },
  {
   "attachments": {
    "image.png": {
     "image/png": "[encoded data removed]"
    }
   },
   "cell_type": "markdown",
   "metadata": {},
   "source": [
    "![image.png](attachment:image.png)"
   ]
  },
  {
   "cell_type": "code",
   "execution_count": 39,
   "metadata": {},
   "outputs": [
    {
     "data": {
      "text/plain": [
       "<BarContainer object of 2 artists>"
      ]
     },
     "execution_count": 39,
     "metadata": {},
     "output_type": "execute_result"
    },
    {
     "data": {
      "image/png": "[encoded data removed]",
      "text/plain": [
       "<Figure size 432x288 with 1 Axes>"
      ]
     },
     "metadata": {
      "needs_background": "light"
     },
     "output_type": "display_data"
    }
   ],
   "source": [
    "plt.ylim(0.8,1)\n",
    "plt.bar([\"TF-IDF\",'CountVect'],[sum(tfidfacc)/10,sum(countacc)/10])"
   ]
  },
  {
   "attachments": {
    "image.png": {
     "image/png": "[encoded data removed]"
    }
   },
   "cell_type": "markdown",
   "metadata": {},
   "source": [
    "first page data -- possibility of confounding vairable\n",
    "\n",
    "> tfidf:0.9488888888888889,  count:0.9688888888888888\n",
    "\n",
    "![image.png](attachment:image.png)"
   ]
  },
  {
   "cell_type": "code",
   "execution_count": null,
   "metadata": {},
   "outputs": [],
   "source": []
  },
  {
   "cell_type": "code",
   "execution_count": null,
   "metadata": {},
   "outputs": [],
   "source": []
  }
 ],
 "metadata": {
  "kernelspec": {
   "display_name": "Python 3",
   "language": "python",
   "name": "python3"
  },
  "language_info": {
   "codemirror_mode": {
    "name": "ipython",
    "version": 3
   },
   "file_extension": ".py",
   "mimetype": "text/x-python",
   "name": "python",
   "nbconvert_exporter": "python",
   "pygments_lexer": "ipython3",
   "version": "3.7.4"
  }
 },
 "nbformat": 4,
 "nbformat_minor": 2
}

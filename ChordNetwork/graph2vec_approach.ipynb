{
 "cells": [
  {
   "cell_type": "code",
   "execution_count": 32,
   "metadata": {},
   "outputs": [],
   "source": [
    "import numpy as np\n",
    "from tqdm import tqdm\n",
    "import networkx as nx\n",
    "import numpy as np\n",
    "import matplotlib\n",
    "from matplotlib import pyplot as plt\n",
    "import pickle\n",
    "import os\n",
    "import glob\n",
    "import json\n",
    "import shutil\n",
    "import pandas\n",
    "%matplotlib inline"
   ]
  },
  {
   "cell_type": "code",
   "execution_count": 46,
   "metadata": {},
   "outputs": [],
   "source": [
    "from sklearn.model_selection import train_test_split\n",
    "from sklearn import svm\n",
    "from sklearn.metrics import accuracy_score\n",
    "from sklearn import tree"
   ]
  },
  {
   "cell_type": "markdown",
   "metadata": {},
   "source": [
    "> `./python/graph2vec`\n",
    ">\n",
    "> `python src/graph2vec.py --dimensions 12 --wl-iterations 20 --epochs 128 --min-count 0` "
   ]
  },
  {
   "cell_type": "code",
   "execution_count": 30,
   "metadata": {},
   "outputs": [
    {
     "data": {
      "text/plain": [
       "(33, 22)"
      ]
     },
     "execution_count": 30,
     "metadata": {},
     "output_type": "execute_result"
    }
   ],
   "source": [
    "a = glob.glob('./the_beatles_1916-2d/*.edgelist')\n",
    "b = glob.glob('./ramones_555-2d/*.edgelist')\n",
    "len(a),len(b)"
   ]
  },
  {
   "cell_type": "code",
   "execution_count": 28,
   "metadata": {},
   "outputs": [],
   "source": [
    "!mkdir stuff2-g"
   ]
  },
  {
   "cell_type": "code",
   "execution_count": 29,
   "metadata": {},
   "outputs": [],
   "source": [
    "despath = './stuff2-g/'\n",
    "counter = 0\n",
    "for p in a:\n",
    "    with open(p) as f:\n",
    "        ll = f.readlines()\n",
    "    ll = [i[:-4] for i in ll]\n",
    "    ll = [i.split() for i in ll]\n",
    "    d = {'edges':ll}\n",
    "    p = despath+str(counter).zfill(3)+'.json'\n",
    "    json.dump(d,open(p,'w'))\n",
    "    counter+=1\n",
    "for p in b:\n",
    "    with open(p) as f:\n",
    "        ll = f.readlines()\n",
    "    ll = [i[:-4] for i in ll]\n",
    "    ll = [i.split() for i in ll]\n",
    "    d = {'edges':ll}\n",
    "    p = despath+str(counter).zfill(3)+'.json'\n",
    "    json.dump(d,open(p,'w'))\n",
    "    counter+=1"
   ]
  },
  {
   "cell_type": "code",
   "execution_count": 31,
   "metadata": {},
   "outputs": [],
   "source": [
    "# a->beatles->0 len(a)=33  b->ramones->1 len(b)=22\n",
    "y = [0 for i in range(33)]+[1 for i in range(22)]"
   ]
  },
  {
   "cell_type": "code",
   "execution_count": 454,
   "metadata": {},
   "outputs": [
    {
     "data": {
      "text/html": [
       "<div>\n",
       "<style scoped>\n",
       "    .dataframe tbody tr th:only-of-type {\n",
       "        vertical-align: middle;\n",
       "    }\n",
       "\n",
       "    .dataframe tbody tr th {\n",
       "        vertical-align: top;\n",
       "    }\n",
       "\n",
       "    .dataframe thead th {\n",
       "        text-align: right;\n",
       "    }\n",
       "</style>\n",
       "<table border=\"1\" class=\"dataframe\">\n",
       "  <thead>\n",
       "    <tr style=\"text-align: right;\">\n",
       "      <th></th>\n",
       "      <th>x_0</th>\n",
       "      <th>x_1</th>\n",
       "      <th>x_2</th>\n",
       "      <th>x_3</th>\n",
       "      <th>x_4</th>\n",
       "      <th>x_5</th>\n",
       "      <th>x_6</th>\n",
       "      <th>x_7</th>\n",
       "      <th>x_8</th>\n",
       "      <th>x_9</th>\n",
       "      <th>x_10</th>\n",
       "      <th>x_11</th>\n",
       "    </tr>\n",
       "  </thead>\n",
       "  <tbody>\n",
       "    <tr>\n",
       "      <td>0</td>\n",
       "      <td>1.215928</td>\n",
       "      <td>-0.948790</td>\n",
       "      <td>-0.154740</td>\n",
       "      <td>-1.632529</td>\n",
       "      <td>4.751432</td>\n",
       "      <td>1.702966</td>\n",
       "      <td>0.550388</td>\n",
       "      <td>0.826934</td>\n",
       "      <td>0.669837</td>\n",
       "      <td>2.256112</td>\n",
       "      <td>4.837352</td>\n",
       "      <td>4.653068</td>\n",
       "    </tr>\n",
       "    <tr>\n",
       "      <td>1</td>\n",
       "      <td>-2.563056</td>\n",
       "      <td>-3.773499</td>\n",
       "      <td>-2.633423</td>\n",
       "      <td>2.852811</td>\n",
       "      <td>4.296122</td>\n",
       "      <td>1.116735</td>\n",
       "      <td>-1.472987</td>\n",
       "      <td>-3.292879</td>\n",
       "      <td>2.128016</td>\n",
       "      <td>-2.137846</td>\n",
       "      <td>2.916173</td>\n",
       "      <td>-1.234232</td>\n",
       "    </tr>\n",
       "    <tr>\n",
       "      <td>2</td>\n",
       "      <td>0.264857</td>\n",
       "      <td>-1.655067</td>\n",
       "      <td>-1.419354</td>\n",
       "      <td>-1.230434</td>\n",
       "      <td>-0.122178</td>\n",
       "      <td>0.497281</td>\n",
       "      <td>0.200791</td>\n",
       "      <td>-1.621371</td>\n",
       "      <td>7.166237</td>\n",
       "      <td>-2.945855</td>\n",
       "      <td>3.558334</td>\n",
       "      <td>-1.096188</td>\n",
       "    </tr>\n",
       "    <tr>\n",
       "      <td>3</td>\n",
       "      <td>2.703926</td>\n",
       "      <td>-4.040882</td>\n",
       "      <td>-3.375838</td>\n",
       "      <td>-0.955576</td>\n",
       "      <td>2.533368</td>\n",
       "      <td>3.826836</td>\n",
       "      <td>-1.495002</td>\n",
       "      <td>2.310414</td>\n",
       "      <td>3.098717</td>\n",
       "      <td>-4.048556</td>\n",
       "      <td>0.634762</td>\n",
       "      <td>-0.774064</td>\n",
       "    </tr>\n",
       "    <tr>\n",
       "      <td>4</td>\n",
       "      <td>-2.749662</td>\n",
       "      <td>-3.382160</td>\n",
       "      <td>1.927140</td>\n",
       "      <td>0.730804</td>\n",
       "      <td>4.124306</td>\n",
       "      <td>1.671919</td>\n",
       "      <td>1.834919</td>\n",
       "      <td>0.941282</td>\n",
       "      <td>5.362881</td>\n",
       "      <td>-0.299362</td>\n",
       "      <td>0.254073</td>\n",
       "      <td>1.333336</td>\n",
       "    </tr>\n",
       "  </tbody>\n",
       "</table>\n",
       "</div>"
      ],
      "text/plain": [
       "        x_0       x_1       x_2       x_3       x_4       x_5       x_6  \\\n",
       "0  1.215928 -0.948790 -0.154740 -1.632529  4.751432  1.702966  0.550388   \n",
       "1 -2.563056 -3.773499 -2.633423  2.852811  4.296122  1.116735 -1.472987   \n",
       "2  0.264857 -1.655067 -1.419354 -1.230434 -0.122178  0.497281  0.200791   \n",
       "3  2.703926 -4.040882 -3.375838 -0.955576  2.533368  3.826836 -1.495002   \n",
       "4 -2.749662 -3.382160  1.927140  0.730804  4.124306  1.671919  1.834919   \n",
       "\n",
       "        x_7       x_8       x_9      x_10      x_11  \n",
       "0  0.826934  0.669837  2.256112  4.837352  4.653068  \n",
       "1 -3.292879  2.128016 -2.137846  2.916173 -1.234232  \n",
       "2 -1.621371  7.166237 -2.945855  3.558334 -1.096188  \n",
       "3  2.310414  3.098717 -4.048556  0.634762 -0.774064  \n",
       "4  0.941282  5.362881 -0.299362  0.254073  1.333336  "
      ]
     },
     "execution_count": 454,
     "metadata": {},
     "output_type": "execute_result"
    }
   ],
   "source": [
    "df = pandas.read_csv('/Users/xieewenz/python/graph2vec/features/nci1.csv')\n",
    "df = df.drop('type',axis=1)\n",
    "df.head(5)\n"
   ]
  },
  {
   "cell_type": "code",
   "execution_count": 455,
   "metadata": {},
   "outputs": [],
   "source": [
    "X = np.array(df)"
   ]
  },
  {
   "cell_type": "code",
   "execution_count": 456,
   "metadata": {},
   "outputs": [
    {
     "data": {
      "text/plain": [
       "0.6697058823529377"
      ]
     },
     "execution_count": 456,
     "metadata": {},
     "output_type": "execute_result"
    }
   ],
   "source": [
    "ala = []\n",
    "for i in range(1000):\n",
    "    X_train, X_test, y_train, y_test = train_test_split(X, y, test_size=0.3)\n",
    "    clf = svm.SVC(kernel='rbf',gamma='auto')\n",
    "    clf.fit(X_train, y_train)\n",
    "    y_pred = clf.predict(X_test)\n",
    "    ala.append(accuracy_score(y_test, y_pred))\n",
    "sum(ala)/1000"
   ]
  },
  {
   "cell_type": "code",
   "execution_count": 457,
   "metadata": {},
   "outputs": [
    {
     "data": {
      "text/plain": [
       "0.6130588235294082"
      ]
     },
     "execution_count": 457,
     "metadata": {},
     "output_type": "execute_result"
    }
   ],
   "source": [
    "ala2 = []\n",
    "for i in range(1000):\n",
    "    X_train, X_test, y_train, y_test = train_test_split(X, y, test_size=0.3)\n",
    "\n",
    "    tc = tree.DecisionTreeClassifier()\n",
    "\n",
    "    tc = tc.fit(X_train, y_train)\n",
    "    y_pred = tc.predict(X_test)\n",
    "    ala2.append(accuracy_score(y_test, y_pred))\n",
    "sum(ala2)/1000"
   ]
  },
  {
   "cell_type": "code",
   "execution_count": 458,
   "metadata": {},
   "outputs": [
    {
     "data": {
      "text/plain": [
       "<matplotlib.legend.Legend at 0x1a1a0a9750>"
      ]
     },
     "execution_count": 458,
     "metadata": {},
     "output_type": "execute_result"
    },
    {
     "data": {
      "image/png": "[encoded data removed]",
      "text/plain": [
       "<Figure size 432x288 with 1 Axes>"
      ]
     },
     "metadata": {
      "needs_background": "light"
     },
     "output_type": "display_data"
    }
   ],
   "source": [
    "plt.xlabel('accuracy')\n",
    "plt.ylabel('number of occurence')\n",
    "plt.hist(ala, color='red', alpha=0.5, label='SVM', density=True)\n",
    "plt.hist(ala2, color='blue', alpha=0.5, label='Decision Tree', density=True)\n",
    "plt.legend()"
   ]
  },
  {
   "cell_type": "markdown",
   "metadata": {},
   "source": [
    "> 6 features 0.7 svm     0.55 Tree\n",
    ">\n",
    "> 12 features 0.69 svm     0.61 Tree"
   ]
  },
  {
   "attachments": {
    "image.png": {
     "image/png": "[encoded data removed]"
    }
   },
   "cell_type": "markdown",
   "metadata": {},
   "source": [
    "![image.png](attachment:image.png)"
   ]
  },
  {
   "cell_type": "code",
   "execution_count": null,
   "metadata": {},
   "outputs": [],
   "source": []
  }
 ],
 "metadata": {
  "kernelspec": {
   "display_name": "Python 3",
   "language": "python",
   "name": "python3"
  },
  "language_info": {
   "codemirror_mode": {
    "name": "ipython",
    "version": 3
   },
   "file_extension": ".py",
   "mimetype": "text/x-python",
   "name": "python",
   "nbconvert_exporter": "python",
   "pygments_lexer": "ipython3",
   "version": "3.7.4"
  }
 },
 "nbformat": 4,
 "nbformat_minor": 2
}
